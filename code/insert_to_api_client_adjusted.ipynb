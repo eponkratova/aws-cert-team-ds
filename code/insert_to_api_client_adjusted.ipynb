{
 "cells": [
  {
   "cell_type": "code",
   "execution_count": 3,
   "metadata": {},
   "outputs": [
    {
     "name": "stdout",
     "output_type": "stream",
     "text": [
      "<Response [200]>\n",
      "{\"statusCode\": 200, \"body\": \"{\\\"InvoiceNo\\\": 53636512, \\\"StockCode\\\": \\\"85123A\\\", \\\"Description\\\": \\\"WHITE HANGING HEART T-LIGHT HOLDER\\\", \\\"Quantity\\\": 6, \\\"InvoiceDate\\\": \\\"12/1/2010 8:26\\\", \\\"UnitPrice\\\": 2.55, \\\"CustomerID\\\": 17850, \\\"Country\\\": \\\"United Kingdom\\\"}\"}\n",
      "<Response [200]>\n",
      "{\"statusCode\": 200, \"body\": \"{\\\"InvoiceNo\\\": 536365, \\\"StockCode\\\": \\\"71053\\\", \\\"Description\\\": \\\"WHITE METAL LANTERN\\\", \\\"Quantity\\\": 6, \\\"InvoiceDate\\\": \\\"12/1/2010 8:26\\\", \\\"UnitPrice\\\": 3.39, \\\"CustomerID\\\": 17850, \\\"Country\\\": \\\"United Kingdom\\\"}\"}\n",
      "<Response [200]>\n",
      "{\"statusCode\": 200, \"body\": \"{\\\"InvoiceNo\\\": 536365, \\\"StockCode\\\": \\\"84406B\\\", \\\"Description\\\": \\\"CREAM CUPID HEARTS COAT HANGER\\\", \\\"Quantity\\\": 8, \\\"InvoiceDate\\\": \\\"12/1/2010 8:26\\\", \\\"UnitPrice\\\": 2.75, \\\"CustomerID\\\": 17850, \\\"Country\\\": \\\"United Kingdom\\\"}\"}\n"
     ]
    }
   ],
   "source": [
    "import pandas as pd\n",
    "import requests\n",
    "\n",
    "\n",
    "# URL of your endpoint\n",
    "URL = \"<yourPostAPI>\"\n",
    "\n",
    "#read the testfile\n",
    "data = pd.read_csv('C:/Users/katep/Desktop/aws_teamds/data_reduced.csv', sep = ',')\n",
    "\n",
    "# write a single row from the testfile into the api\n",
    "for i in data.index:\n",
    "    try:\n",
    "        # convert the row to json\n",
    "        export = data.loc[i].to_json()\n",
    "\n",
    "        #send it to the api\n",
    "        response = requests.post(URL, data = export)\n",
    "\n",
    "        # print the returncode\n",
    "        #print(export)\n",
    "        print(response)\n",
    "\n",
    "        print(response.text)\n",
    "    except:\n",
    "        print(data.loc[i])"
   ]
  },
  {
   "cell_type": "code",
   "execution_count": null,
   "metadata": {},
   "outputs": [],
   "source": []
  }
 ],
 "metadata": {
  "kernelspec": {
   "display_name": "python3.5",
   "language": "python",
   "name": "python3.5"
  },
  "language_info": {
   "codemirror_mode": {
    "name": "ipython",
    "version": 3
   },
   "file_extension": ".py",
   "mimetype": "text/x-python",
   "name": "python",
   "nbconvert_exporter": "python",
   "pygments_lexer": "ipython3",
   "version": "3.7.9"
  }
 },
 "nbformat": 4,
 "nbformat_minor": 4
}
